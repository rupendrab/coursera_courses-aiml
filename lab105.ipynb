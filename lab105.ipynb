{
 "cells": [
  {
   "cell_type": "markdown",
   "id": "82a6b33f-aee1-4312-955a-543656fe0129",
   "metadata": {},
   "source": [
    "## Deviations from Normality"
   ]
  },
  {
   "cell_type": "code",
   "execution_count": 1,
   "id": "523163db-5abc-42a2-a407-32e6bf1ee091",
   "metadata": {},
   "outputs": [],
   "source": [
    "%load_ext autoreload\n",
    "%autoreload 2"
   ]
  },
  {
   "cell_type": "code",
   "execution_count": 2,
   "id": "23847c0d-938b-47ee-98b2-71adf85c8657",
   "metadata": {},
   "outputs": [],
   "source": [
    "import edhek_risk_kit as erk\n",
    "import pandas as pd"
   ]
  },
  {
   "cell_type": "code",
   "execution_count": 3,
   "id": "acb75a0a-5bb5-4ebc-9754-183b52ff6c9b",
   "metadata": {},
   "outputs": [
    {
     "data": {
      "text/html": [
       "<div>\n",
       "<style scoped>\n",
       "    .dataframe tbody tr th:only-of-type {\n",
       "        vertical-align: middle;\n",
       "    }\n",
       "\n",
       "    .dataframe tbody tr th {\n",
       "        vertical-align: top;\n",
       "    }\n",
       "\n",
       "    .dataframe thead th {\n",
       "        text-align: right;\n",
       "    }\n",
       "</style>\n",
       "<table border=\"1\" class=\"dataframe\">\n",
       "  <thead>\n",
       "    <tr style=\"text-align: right;\">\n",
       "      <th></th>\n",
       "      <th>Convertible Arbitrage</th>\n",
       "      <th>CTA Global</th>\n",
       "      <th>Distressed Securities</th>\n",
       "      <th>Emerging Markets</th>\n",
       "      <th>Equity Market Neutral</th>\n",
       "      <th>Event Driven</th>\n",
       "      <th>Fixed Income Arbitrage</th>\n",
       "      <th>Global Macro</th>\n",
       "      <th>Long/Short Equity</th>\n",
       "      <th>Merger Arbitrage</th>\n",
       "      <th>Relative Value</th>\n",
       "      <th>Short Selling</th>\n",
       "      <th>Funds Of Funds</th>\n",
       "    </tr>\n",
       "    <tr>\n",
       "      <th>date</th>\n",
       "      <th></th>\n",
       "      <th></th>\n",
       "      <th></th>\n",
       "      <th></th>\n",
       "      <th></th>\n",
       "      <th></th>\n",
       "      <th></th>\n",
       "      <th></th>\n",
       "      <th></th>\n",
       "      <th></th>\n",
       "      <th></th>\n",
       "      <th></th>\n",
       "      <th></th>\n",
       "    </tr>\n",
       "  </thead>\n",
       "  <tbody>\n",
       "    <tr>\n",
       "      <th>1997-01</th>\n",
       "      <td>0.0119</td>\n",
       "      <td>0.0393</td>\n",
       "      <td>0.0178</td>\n",
       "      <td>0.0791</td>\n",
       "      <td>0.0189</td>\n",
       "      <td>0.0213</td>\n",
       "      <td>0.0191</td>\n",
       "      <td>0.0573</td>\n",
       "      <td>0.0281</td>\n",
       "      <td>0.0150</td>\n",
       "      <td>0.0180</td>\n",
       "      <td>-0.0166</td>\n",
       "      <td>0.0317</td>\n",
       "    </tr>\n",
       "    <tr>\n",
       "      <th>1997-02</th>\n",
       "      <td>0.0123</td>\n",
       "      <td>0.0298</td>\n",
       "      <td>0.0122</td>\n",
       "      <td>0.0525</td>\n",
       "      <td>0.0101</td>\n",
       "      <td>0.0084</td>\n",
       "      <td>0.0122</td>\n",
       "      <td>0.0175</td>\n",
       "      <td>-0.0006</td>\n",
       "      <td>0.0034</td>\n",
       "      <td>0.0118</td>\n",
       "      <td>0.0426</td>\n",
       "      <td>0.0106</td>\n",
       "    </tr>\n",
       "    <tr>\n",
       "      <th>1997-03</th>\n",
       "      <td>0.0078</td>\n",
       "      <td>-0.0021</td>\n",
       "      <td>-0.0012</td>\n",
       "      <td>-0.0120</td>\n",
       "      <td>0.0016</td>\n",
       "      <td>-0.0023</td>\n",
       "      <td>0.0109</td>\n",
       "      <td>-0.0119</td>\n",
       "      <td>-0.0084</td>\n",
       "      <td>0.0060</td>\n",
       "      <td>0.0010</td>\n",
       "      <td>0.0778</td>\n",
       "      <td>-0.0077</td>\n",
       "    </tr>\n",
       "    <tr>\n",
       "      <th>1997-04</th>\n",
       "      <td>0.0086</td>\n",
       "      <td>-0.0170</td>\n",
       "      <td>0.0030</td>\n",
       "      <td>0.0119</td>\n",
       "      <td>0.0119</td>\n",
       "      <td>-0.0005</td>\n",
       "      <td>0.0130</td>\n",
       "      <td>0.0172</td>\n",
       "      <td>0.0084</td>\n",
       "      <td>-0.0001</td>\n",
       "      <td>0.0122</td>\n",
       "      <td>-0.0129</td>\n",
       "      <td>0.0009</td>\n",
       "    </tr>\n",
       "    <tr>\n",
       "      <th>1997-05</th>\n",
       "      <td>0.0156</td>\n",
       "      <td>-0.0015</td>\n",
       "      <td>0.0233</td>\n",
       "      <td>0.0315</td>\n",
       "      <td>0.0189</td>\n",
       "      <td>0.0346</td>\n",
       "      <td>0.0118</td>\n",
       "      <td>0.0108</td>\n",
       "      <td>0.0394</td>\n",
       "      <td>0.0197</td>\n",
       "      <td>0.0173</td>\n",
       "      <td>-0.0737</td>\n",
       "      <td>0.0275</td>\n",
       "    </tr>\n",
       "  </tbody>\n",
       "</table>\n",
       "</div>"
      ],
      "text/plain": [
       "         Convertible Arbitrage  CTA Global  Distressed Securities  \\\n",
       "date                                                                \n",
       "1997-01                 0.0119      0.0393                 0.0178   \n",
       "1997-02                 0.0123      0.0298                 0.0122   \n",
       "1997-03                 0.0078     -0.0021                -0.0012   \n",
       "1997-04                 0.0086     -0.0170                 0.0030   \n",
       "1997-05                 0.0156     -0.0015                 0.0233   \n",
       "\n",
       "         Emerging Markets  Equity Market Neutral  Event Driven  \\\n",
       "date                                                             \n",
       "1997-01            0.0791                 0.0189        0.0213   \n",
       "1997-02            0.0525                 0.0101        0.0084   \n",
       "1997-03           -0.0120                 0.0016       -0.0023   \n",
       "1997-04            0.0119                 0.0119       -0.0005   \n",
       "1997-05            0.0315                 0.0189        0.0346   \n",
       "\n",
       "         Fixed Income Arbitrage  Global Macro  Long/Short Equity  \\\n",
       "date                                                               \n",
       "1997-01                  0.0191        0.0573             0.0281   \n",
       "1997-02                  0.0122        0.0175            -0.0006   \n",
       "1997-03                  0.0109       -0.0119            -0.0084   \n",
       "1997-04                  0.0130        0.0172             0.0084   \n",
       "1997-05                  0.0118        0.0108             0.0394   \n",
       "\n",
       "         Merger Arbitrage  Relative Value  Short Selling  Funds Of Funds  \n",
       "date                                                                      \n",
       "1997-01            0.0150          0.0180        -0.0166          0.0317  \n",
       "1997-02            0.0034          0.0118         0.0426          0.0106  \n",
       "1997-03            0.0060          0.0010         0.0778         -0.0077  \n",
       "1997-04           -0.0001          0.0122        -0.0129          0.0009  \n",
       "1997-05            0.0197          0.0173        -0.0737          0.0275  "
      ]
     },
     "execution_count": 3,
     "metadata": {},
     "output_type": "execute_result"
    }
   ],
   "source": [
    "hfi = erk.get_hfi_returns()\n",
    "hfi.head()"
   ]
  },
  {
   "cell_type": "markdown",
   "id": "4dedce92-0b92-4399-b119-7ccafcd4b8fc",
   "metadata": {},
   "source": [
    "### Checking Frequency Distribution"
   ]
  },
  {
   "cell_type": "code",
   "execution_count": 6,
   "id": "a1aae01c-cc40-4a2e-9a8d-d733ea0a9266",
   "metadata": {},
   "outputs": [
    {
     "data": {
      "text/plain": [
       "<Axes: >"
      ]
     },
     "execution_count": 6,
     "metadata": {},
     "output_type": "execute_result"
    },
    {
     "data": {
      "image/png": "[encoded data removed]",
      "text/plain": [
       "<Figure size 640x480 with 1 Axes>"
      ]
     },
     "metadata": {},
     "output_type": "display_data"
    }
   ],
   "source": [
    "hfi[\"Convertible Arbitrage\"].hist(bins=100)"
   ]
  },
  {
   "cell_type": "code",
   "execution_count": 10,
   "id": "fb353a7a-e317-46cb-843a-21848293402d",
   "metadata": {},
   "outputs": [
    {
     "data": {
      "text/plain": [
       "<Axes: xlabel='Convertible Arbitrage', ylabel='Count'>"
      ]
     },
     "execution_count": 10,
     "metadata": {},
     "output_type": "execute_result"
    },
    {
     "data": {
      "image/png": "[encoded data removed]",
      "text/plain": [
       "<Figure size 640x480 with 1 Axes>"
      ]
     },
     "metadata": {},
     "output_type": "display_data"
    }
   ],
   "source": [
    "import seaborn as sns\n",
    "sns.histplot(hfi[\"Convertible Arbitrage\"], bins=100, kde=True)"
   ]
  },
  {
   "cell_type": "code",
   "execution_count": 17,
   "id": "235f323d-29a1-447b-80a5-4b01e678ea11",
   "metadata": {},
   "outputs": [
    {
     "data": {
      "text/html": [
       "<div>\n",
       "<style scoped>\n",
       "    .dataframe tbody tr th:only-of-type {\n",
       "        vertical-align: middle;\n",
       "    }\n",
       "\n",
       "    .dataframe tbody tr th {\n",
       "        vertical-align: top;\n",
       "    }\n",
       "\n",
       "    .dataframe thead th {\n",
       "        text-align: right;\n",
       "    }\n",
       "</style>\n",
       "<table border=\"1\" class=\"dataframe\">\n",
       "  <thead>\n",
       "    <tr style=\"text-align: right;\">\n",
       "      <th></th>\n",
       "      <th>mean</th>\n",
       "      <th>median</th>\n",
       "      <th>mean &gt; median</th>\n",
       "    </tr>\n",
       "  </thead>\n",
       "  <tbody>\n",
       "    <tr>\n",
       "      <th>Convertible Arbitrage</th>\n",
       "      <td>0.005508</td>\n",
       "      <td>0.0065</td>\n",
       "      <td>False</td>\n",
       "    </tr>\n",
       "    <tr>\n",
       "      <th>CTA Global</th>\n",
       "      <td>0.004074</td>\n",
       "      <td>0.0014</td>\n",
       "      <td>True</td>\n",
       "    </tr>\n",
       "    <tr>\n",
       "      <th>Distressed Securities</th>\n",
       "      <td>0.006946</td>\n",
       "      <td>0.0089</td>\n",
       "      <td>False</td>\n",
       "    </tr>\n",
       "    <tr>\n",
       "      <th>Emerging Markets</th>\n",
       "      <td>0.006253</td>\n",
       "      <td>0.0096</td>\n",
       "      <td>False</td>\n",
       "    </tr>\n",
       "    <tr>\n",
       "      <th>Equity Market Neutral</th>\n",
       "      <td>0.004498</td>\n",
       "      <td>0.0051</td>\n",
       "      <td>False</td>\n",
       "    </tr>\n",
       "    <tr>\n",
       "      <th>Event Driven</th>\n",
       "      <td>0.006344</td>\n",
       "      <td>0.0084</td>\n",
       "      <td>False</td>\n",
       "    </tr>\n",
       "    <tr>\n",
       "      <th>Fixed Income Arbitrage</th>\n",
       "      <td>0.004365</td>\n",
       "      <td>0.0055</td>\n",
       "      <td>False</td>\n",
       "    </tr>\n",
       "    <tr>\n",
       "      <th>Global Macro</th>\n",
       "      <td>0.005403</td>\n",
       "      <td>0.0038</td>\n",
       "      <td>True</td>\n",
       "    </tr>\n",
       "    <tr>\n",
       "      <th>Long/Short Equity</th>\n",
       "      <td>0.006331</td>\n",
       "      <td>0.0079</td>\n",
       "      <td>False</td>\n",
       "    </tr>\n",
       "    <tr>\n",
       "      <th>Merger Arbitrage</th>\n",
       "      <td>0.005356</td>\n",
       "      <td>0.0060</td>\n",
       "      <td>False</td>\n",
       "    </tr>\n",
       "    <tr>\n",
       "      <th>Relative Value</th>\n",
       "      <td>0.005792</td>\n",
       "      <td>0.0067</td>\n",
       "      <td>False</td>\n",
       "    </tr>\n",
       "    <tr>\n",
       "      <th>Short Selling</th>\n",
       "      <td>-0.001701</td>\n",
       "      <td>-0.0053</td>\n",
       "      <td>True</td>\n",
       "    </tr>\n",
       "    <tr>\n",
       "      <th>Funds Of Funds</th>\n",
       "      <td>0.004262</td>\n",
       "      <td>0.0052</td>\n",
       "      <td>False</td>\n",
       "    </tr>\n",
       "  </tbody>\n",
       "</table>\n",
       "</div>"
      ],
      "text/plain": [
       "                            mean  median  mean > median\n",
       "Convertible Arbitrage   0.005508  0.0065          False\n",
       "CTA Global              0.004074  0.0014           True\n",
       "Distressed Securities   0.006946  0.0089          False\n",
       "Emerging Markets        0.006253  0.0096          False\n",
       "Equity Market Neutral   0.004498  0.0051          False\n",
       "Event Driven            0.006344  0.0084          False\n",
       "Fixed Income Arbitrage  0.004365  0.0055          False\n",
       "Global Macro            0.005403  0.0038           True\n",
       "Long/Short Equity       0.006331  0.0079          False\n",
       "Merger Arbitrage        0.005356  0.0060          False\n",
       "Relative Value          0.005792  0.0067          False\n",
       "Short Selling          -0.001701 -0.0053           True\n",
       "Funds Of Funds          0.004262  0.0052          False"
      ]
     },
     "execution_count": 17,
     "metadata": {},
     "output_type": "execute_result"
    }
   ],
   "source": [
    "pd.concat(\n",
    "    [hfi.mean(), hfi.median(), hfi.mean() > hfi.median()], \n",
    "    axis=\"columns\",\n",
    "    keys=[\"mean\", \"median\", \"mean > median\"]\n",
    ")"
   ]
  },
  {
   "cell_type": "markdown",
   "id": "4d3fb330-67bd-4eca-a9e3-3f4e5f97b0d4",
   "metadata": {},
   "source": [
    "$$ S(R) = \\frac{E[ (R - E(R))^3 ]}{\\sigma_R^3} $$"
   ]
  },
  {
   "cell_type": "code",
   "execution_count": 28,
   "id": "f444440c-717a-4169-98a3-4e5f60a2e377",
   "metadata": {},
   "outputs": [
    {
     "data": {
      "text/plain": [
       "Fixed Income Arbitrage   -3.940320\n",
       "Convertible Arbitrage    -2.639592\n",
       "Equity Market Neutral    -2.124435\n",
       "Relative Value           -1.815470\n",
       "Event Driven             -1.409154\n",
       "Merger Arbitrage         -1.320083\n",
       "Distressed Securities    -1.300842\n",
       "Emerging Markets         -1.167067\n",
       "Long/Short Equity        -0.390227\n",
       "Funds Of Funds           -0.361783\n",
       "CTA Global                0.173699\n",
       "Short Selling             0.767975\n",
       "Global Macro              0.982922\n",
       "dtype: float64"
      ]
     },
     "execution_count": 28,
     "metadata": {},
     "output_type": "execute_result"
    }
   ],
   "source": [
    "erk.skewness(hfi).sort_values()"
   ]
  },
  {
   "cell_type": "code",
   "execution_count": 29,
   "id": "6708b0b4-a966-4206-ac14-cc8aaa4430d7",
   "metadata": {},
   "outputs": [
    {
     "data": {
      "text/plain": [
       "Fixed Income Arbitrage   -3.962959\n",
       "Convertible Arbitrage    -2.654757\n",
       "Equity Market Neutral    -2.136641\n",
       "Relative Value           -1.825900\n",
       "Event Driven             -1.417250\n",
       "Merger Arbitrage         -1.327668\n",
       "Distressed Securities    -1.308316\n",
       "Emerging Markets         -1.173773\n",
       "Long/Short Equity        -0.392469\n",
       "Funds Of Funds           -0.363862\n",
       "CTA Global                0.174697\n",
       "Short Selling             0.772387\n",
       "Global Macro              0.988569\n",
       "dtype: float64"
      ]
     },
     "execution_count": 29,
     "metadata": {},
     "output_type": "execute_result"
    }
   ],
   "source": [
    "hfi.skew().sort_values()"
   ]
  },
  {
   "cell_type": "code",
   "execution_count": 31,
   "id": "d41d41fc-e5bf-4274-8416-c991f7476191",
   "metadata": {},
   "outputs": [
    {
     "data": {
      "text/plain": [
       "array([-2.63959223,  0.17369864, -1.30084204, -1.16706749, -2.12443538,\n",
       "       -1.40915356, -3.94032029,  0.98292188, -0.39022677, -1.32008333,\n",
       "       -1.81546975,  0.76797484, -0.36178308])"
      ]
     },
     "execution_count": 31,
     "metadata": {},
     "output_type": "execute_result"
    }
   ],
   "source": [
    "import scipy.stats\n",
    "scipy.stats.skew(hfi)"
   ]
  },
  {
   "cell_type": "code",
   "execution_count": 63,
   "id": "4f9c344c-5f25-46bb-ab79-cd65b9162048",
   "metadata": {},
   "outputs": [],
   "source": [
    "import numpy as np\n",
    "normal_rets = np.random.normal(0, 0.15, size=(263,1))"
   ]
  },
  {
   "cell_type": "code",
   "execution_count": 64,
   "id": "c0bbf243-1ec7-40b3-863f-e4df13ad72e5",
   "metadata": {},
   "outputs": [
    {
     "data": {
      "text/plain": [
       "-0.17429721562017414"
      ]
     },
     "execution_count": 64,
     "metadata": {},
     "output_type": "execute_result"
    }
   ],
   "source": [
    "erk.skewness(normal_rets).item()"
   ]
  },
  {
   "cell_type": "markdown",
   "id": "c1e89d88-e050-4020-8f1e-8eb836f3ebdb",
   "metadata": {},
   "source": [
    "## Kurtosis\n",
    "\n",
    "$$ K(R) = \\frac{E[ (R - E(R))^4 ]}{\\sigma_R^4} $$"
   ]
  },
  {
   "cell_type": "code",
   "execution_count": 44,
   "id": "1a96db06-2558-4322-ad7b-2ee1c55bfdd5",
   "metadata": {},
   "outputs": [
    {
     "data": {
      "text/plain": [
       "CTA Global                 2.952960\n",
       "Long/Short Equity          4.523893\n",
       "Global Macro               5.741679\n",
       "Short Selling              6.117772\n",
       "Funds Of Funds             7.070153\n",
       "Distressed Securities      7.889983\n",
       "Event Driven               8.035828\n",
       "Merger Arbitrage           8.738950\n",
       "Emerging Markets           9.250788\n",
       "Relative Value            12.121208\n",
       "Equity Market Neutral     17.218555\n",
       "Convertible Arbitrage     23.280834\n",
       "Fixed Income Arbitrage    29.842199\n",
       "dtype: float64"
      ]
     },
     "execution_count": 44,
     "metadata": {},
     "output_type": "execute_result"
    }
   ],
   "source": [
    "erk.kurtosis(hfi).sort_values()"
   ]
  },
  {
   "cell_type": "code",
   "execution_count": 51,
   "id": "41c882ad-6035-471e-8899-8fba59a34aa4",
   "metadata": {},
   "outputs": [
    {
     "data": {
      "text/plain": [
       "<Axes: >"
      ]
     },
     "execution_count": 51,
     "metadata": {},
     "output_type": "execute_result"
    },
    {
     "data": {
      "image/png": "[encoded data removed]",
      "text/plain": [
       "<Figure size 640x480 with 1 Axes>"
      ]
     },
     "metadata": {},
     "output_type": "display_data"
    }
   ],
   "source": [
    "hfi[\"Convertible Arbitrage\"].hist(bins=100)"
   ]
  },
  {
   "cell_type": "code",
   "execution_count": 50,
   "id": "a98ea821-2bcd-41d0-a74d-1df45e8f2efe",
   "metadata": {},
   "outputs": [
    {
     "data": {
      "text/plain": [
       "2.988910337116024"
      ]
     },
     "execution_count": 50,
     "metadata": {},
     "output_type": "execute_result"
    }
   ],
   "source": [
    "erk.kurtosis(normal_rets).item()"
   ]
  },
  {
   "cell_type": "code",
   "execution_count": 54,
   "id": "29569737-e364-42d7-8cc7-b0032935ac9b",
   "metadata": {},
   "outputs": [
    {
     "data": {
      "text/plain": [
       "array([-0.01108966])"
      ]
     },
     "execution_count": 54,
     "metadata": {},
     "output_type": "execute_result"
    }
   ],
   "source": [
    "# Already 3 is subtracted, so 0 for normal\n",
    "scipy.stats.kurtosis(normal_rets)"
   ]
  },
  {
   "cell_type": "code",
   "execution_count": 53,
   "id": "25029df7-f0a2-476e-a448-44611c563659",
   "metadata": {},
   "outputs": [
    {
     "data": {
      "text/plain": [
       "array([20.28083446, -0.04703963,  4.88998336,  6.25078841, 14.21855526,\n",
       "        5.03582817, 26.84219928,  2.74167945,  1.52389258,  5.73894979,\n",
       "        9.12120787,  3.11777175,  4.07015278])"
      ]
     },
     "execution_count": 53,
     "metadata": {},
     "output_type": "execute_result"
    }
   ],
   "source": [
    "scipy.stats.kurtosis(hfi)"
   ]
  },
  {
   "cell_type": "markdown",
   "id": "9a20027c-d542-49c2-911a-80c95cc83342",
   "metadata": {},
   "source": [
    "## Test of normality using Jarque Bera"
   ]
  },
  {
   "cell_type": "code",
   "execution_count": 65,
   "id": "1e9afb69-efb2-49cc-ad04-febb64104092",
   "metadata": {},
   "outputs": [
    {
     "data": {
      "text/plain": [
       "SignificanceResult(statistic=np.float64(1.7993205400277188), pvalue=np.float64(0.4067078071105412))"
      ]
     },
     "execution_count": 65,
     "metadata": {},
     "output_type": "execute_result"
    }
   ],
   "source": [
    "scipy.stats.jarque_bera(normal_rets)"
   ]
  },
  {
   "cell_type": "markdown",
   "id": "f3b80b7c-26fa-4007-a8e9-6600870a3302",
   "metadata": {},
   "source": [
    "#### What the numbers mean\n",
    "\n",
    "statistic = 1.7993\n",
    "This is the JB test statistic. Larger values indicate stronger departure from normality.\n",
    "\n",
    "pvalue = 0.4067\n",
    "This is the probability of observing such a statistic under the null hypothesis of normality.\n",
    "\n",
    "**How to interpret**\n",
    "\n",
    "Null hypothesis (H₀): Data are normally distributed.\n",
    "\n",
    "Alternative hypothesis (H₁): Data are not normally distributed.\n",
    "\n",
    "**Decision rule**:\n",
    "\n",
    "If pvalue < α (say 0.05), reject H₀ → evidence against normality.\n",
    "\n",
    "If pvalue ≥ α, fail to reject H₀ → no evidence against normality.\n",
    "\n",
    "**Here**:\n",
    "\n",
    "pvalue = 0.4067 > 0.05 → fail to reject H₀.\n",
    "\n",
    "Conclusion: There is no strong evidence that the distribution is non-normal. The data could plausibly be normal."
   ]
  },
  {
   "cell_type": "code",
   "execution_count": 66,
   "id": "db5f7343-5e81-4894-bf70-d6ef718555d0",
   "metadata": {},
   "outputs": [
    {
     "data": {
      "text/plain": [
       "SignificanceResult(statistic=np.float64(25656.585999171337), pvalue=np.float64(0.0))"
      ]
     },
     "execution_count": 66,
     "metadata": {},
     "output_type": "execute_result"
    }
   ],
   "source": [
    "scipy.stats.jarque_bera(hfi)"
   ]
  },
  {
   "cell_type": "code",
   "execution_count": 68,
   "id": "2f8a11ca-9afc-44b8-b989-aeab188a61b8",
   "metadata": {},
   "outputs": [
    {
     "data": {
      "text/plain": [
       "True"
      ]
     },
     "execution_count": 68,
     "metadata": {},
     "output_type": "execute_result"
    }
   ],
   "source": [
    "erk.is_normal(normal_rets).item()"
   ]
  },
  {
   "cell_type": "code",
   "execution_count": 70,
   "id": "476758f0-da76-4c71-a652-114a0a87697c",
   "metadata": {},
   "outputs": [
    {
     "data": {
      "text/plain": [
       "Convertible Arbitrage     False\n",
       "CTA Global                 True\n",
       "Distressed Securities     False\n",
       "Emerging Markets          False\n",
       "Equity Market Neutral     False\n",
       "Event Driven              False\n",
       "Fixed Income Arbitrage    False\n",
       "Global Macro              False\n",
       "Long/Short Equity         False\n",
       "Merger Arbitrage          False\n",
       "Relative Value            False\n",
       "Short Selling             False\n",
       "Funds Of Funds            False\n",
       "dtype: bool"
      ]
     },
     "execution_count": 70,
     "metadata": {},
     "output_type": "execute_result"
    }
   ],
   "source": [
    "hfi.aggregate(erk.is_normal)"
   ]
  },
  {
   "cell_type": "code",
   "execution_count": 75,
   "id": "c8ca22cc-87f8-4161-b89c-701870c53194",
   "metadata": {},
   "outputs": [
    {
     "data": {
      "text/plain": [
       "Convertible Arbitrage     False\n",
       "CTA Global                 True\n",
       "Distressed Securities     False\n",
       "Emerging Markets          False\n",
       "Equity Market Neutral     False\n",
       "Event Driven              False\n",
       "Fixed Income Arbitrage    False\n",
       "Global Macro              False\n",
       "Long/Short Equity         False\n",
       "Merger Arbitrage          False\n",
       "Relative Value            False\n",
       "Short Selling             False\n",
       "Funds Of Funds            False\n",
       "Name: 1, dtype: bool"
      ]
     },
     "execution_count": 75,
     "metadata": {},
     "output_type": "execute_result"
    }
   ],
   "source": [
    "hfi.aggregate(scipy.stats.jarque_bera).loc[1] > 0.01"
   ]
  },
  {
   "cell_type": "markdown",
   "id": "84cb48dd-1e1c-43ed-9b5f-3b9d5d4e58c4",
   "metadata": {},
   "source": [
    "## Check the FFME Set"
   ]
  },
  {
   "cell_type": "code",
   "execution_count": 76,
   "id": "a2346f61-7d5f-439c-b0d3-ea7f31d2d6fa",
   "metadata": {},
   "outputs": [],
   "source": [
    "ffme = erk.get_ffme_returns()"
   ]
  },
  {
   "cell_type": "code",
   "execution_count": 77,
   "id": "62921be3-676f-48c7-a62d-45d2cc56c0e1",
   "metadata": {},
   "outputs": [
    {
     "data": {
      "text/plain": [
       "SmallCap    4.410739\n",
       "LargeCap    0.233445\n",
       "dtype: float64"
      ]
     },
     "execution_count": 77,
     "metadata": {},
     "output_type": "execute_result"
    }
   ],
   "source": [
    "erk.skewness(ffme)"
   ]
  },
  {
   "cell_type": "code",
   "execution_count": 79,
   "id": "6c04f9c1-299a-4324-9b5f-c80180e67ec3",
   "metadata": {},
   "outputs": [
    {
     "data": {
      "text/plain": [
       "SmallCap    46.845008\n",
       "LargeCap    10.694654\n",
       "dtype: float64"
      ]
     },
     "execution_count": 79,
     "metadata": {},
     "output_type": "execute_result"
    }
   ],
   "source": [
    "erk.kurtosis(ffme)"
   ]
  },
  {
   "cell_type": "code",
   "execution_count": 80,
   "id": "6bdeadaa-fb95-41c3-a693-51763b449436",
   "metadata": {},
   "outputs": [
    {
     "data": {
      "text/plain": [
       "SmallCap    False\n",
       "LargeCap    False\n",
       "dtype: bool"
      ]
     },
     "execution_count": 80,
     "metadata": {},
     "output_type": "execute_result"
    }
   ],
   "source": [
    "ffme.aggregate(erk.is_normal)"
   ]
  },
  {
   "cell_type": "code",
   "execution_count": 81,
   "id": "2212fbec-b490-400d-b4d4-17f1626fdc08",
   "metadata": {},
   "outputs": [
    {
     "data": {
      "text/html": [
       "<div>\n",
       "<style scoped>\n",
       "    .dataframe tbody tr th:only-of-type {\n",
       "        vertical-align: middle;\n",
       "    }\n",
       "\n",
       "    .dataframe tbody tr th {\n",
       "        vertical-align: top;\n",
       "    }\n",
       "\n",
       "    .dataframe thead th {\n",
       "        text-align: right;\n",
       "    }\n",
       "</style>\n",
       "<table border=\"1\" class=\"dataframe\">\n",
       "  <thead>\n",
       "    <tr style=\"text-align: right;\">\n",
       "      <th></th>\n",
       "      <th>SmallCap</th>\n",
       "      <th>LargeCap</th>\n",
       "    </tr>\n",
       "  </thead>\n",
       "  <tbody>\n",
       "    <tr>\n",
       "      <th>0</th>\n",
       "      <td>92509.396763</td>\n",
       "      <td>2748.437975</td>\n",
       "    </tr>\n",
       "    <tr>\n",
       "      <th>1</th>\n",
       "      <td>0.000000</td>\n",
       "      <td>0.000000</td>\n",
       "    </tr>\n",
       "  </tbody>\n",
       "</table>\n",
       "</div>"
      ],
      "text/plain": [
       "       SmallCap     LargeCap\n",
       "0  92509.396763  2748.437975\n",
       "1      0.000000     0.000000"
      ]
     },
     "execution_count": 81,
     "metadata": {},
     "output_type": "execute_result"
    }
   ],
   "source": [
    "ffme.aggregate(scipy.stats.jarque_bera)"
   ]
  },
  {
   "cell_type": "code",
   "execution_count": null,
   "id": "8859ebcd-7a9b-4e35-9747-67f0ead329ea",
   "metadata": {},
   "outputs": [],
   "source": []
  }
 ],
 "metadata": {
  "kernelspec": {
   "display_name": "Python 3 (ipykernel)",
   "language": "python",
   "name": "python3"
  },
  "language_info": {
   "codemirror_mode": {
    "name": "ipython",
    "version": 3
   },
   "file_extension": ".py",
   "mimetype": "text/x-python",
   "name": "python",
   "nbconvert_exporter": "python",
   "pygments_lexer": "ipython3",
   "version": "3.12.10"
  }
 },
 "nbformat": 4,
 "nbformat_minor": 5
}

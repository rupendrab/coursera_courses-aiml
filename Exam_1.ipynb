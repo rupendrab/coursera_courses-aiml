{
 "cells": [
  {
   "cell_type": "code",
   "execution_count": 1,
   "id": "d12b82d5-9655-45fe-a54a-924942f76329",
   "metadata": {},
   "outputs": [],
   "source": [
    "import pandas as pd\n",
    "import numpy as np"
   ]
  },
  {
   "cell_type": "code",
   "execution_count": 4,
   "id": "1651d33c-7437-4c34-85d5-fc1549591075",
   "metadata": {},
   "outputs": [],
   "source": [
    "def get_ffme_returns() -> pd.DataFrame:\n",
    "    \"\"\"\n",
    "    Load the Fama-French Dataset for the returns of the Top and Bottom Deciles by MarketCap\n",
    "    \"\"\"\n",
    "    me_m = pd.read_csv(\"data/Portfolios_Formed_on_ME_monthly_EW.csv\",\n",
    "                       header=0, index_col=0, na_values=-99.99)\n",
    "    rets = me_m[['Lo 20', 'Hi 20']]\n",
    "    rets.columns = ['SmallCap20', 'LargeCap20']\n",
    "    rets = rets/100\n",
    "    rets.index = pd.to_datetime(rets.index, format=\"%Y%m\").to_period('M')\n",
    "    return rets\n"
   ]
  },
  {
   "cell_type": "code",
   "execution_count": 25,
   "id": "a5bfcee4-2572-454c-ad69-ff9fd3a0b55f",
   "metadata": {},
   "outputs": [
    {
     "data": {
      "text/html": [
       "<div>\n",
       "<style scoped>\n",
       "    .dataframe tbody tr th:only-of-type {\n",
       "        vertical-align: middle;\n",
       "    }\n",
       "\n",
       "    .dataframe tbody tr th {\n",
       "        vertical-align: top;\n",
       "    }\n",
       "\n",
       "    .dataframe thead th {\n",
       "        text-align: right;\n",
       "    }\n",
       "</style>\n",
       "<table border=\"1\" class=\"dataframe\">\n",
       "  <thead>\n",
       "    <tr style=\"text-align: right;\">\n",
       "      <th></th>\n",
       "      <th>SmallCap20</th>\n",
       "      <th>LargeCap20</th>\n",
       "    </tr>\n",
       "  </thead>\n",
       "  <tbody>\n",
       "    <tr>\n",
       "      <th>1926-07</th>\n",
       "      <td>-0.0057</td>\n",
       "      <td>0.0333</td>\n",
       "    </tr>\n",
       "    <tr>\n",
       "      <th>1926-08</th>\n",
       "      <td>0.0384</td>\n",
       "      <td>0.0233</td>\n",
       "    </tr>\n",
       "    <tr>\n",
       "      <th>1926-09</th>\n",
       "      <td>-0.0048</td>\n",
       "      <td>-0.0009</td>\n",
       "    </tr>\n",
       "    <tr>\n",
       "      <th>1926-10</th>\n",
       "      <td>-0.0329</td>\n",
       "      <td>-0.0295</td>\n",
       "    </tr>\n",
       "    <tr>\n",
       "      <th>1926-11</th>\n",
       "      <td>-0.0055</td>\n",
       "      <td>0.0316</td>\n",
       "    </tr>\n",
       "  </tbody>\n",
       "</table>\n",
       "</div>"
      ],
      "text/plain": [
       "         SmallCap20  LargeCap20\n",
       "1926-07     -0.0057      0.0333\n",
       "1926-08      0.0384      0.0233\n",
       "1926-09     -0.0048     -0.0009\n",
       "1926-10     -0.0329     -0.0295\n",
       "1926-11     -0.0055      0.0316"
      ]
     },
     "execution_count": 25,
     "metadata": {},
     "output_type": "execute_result"
    }
   ],
   "source": [
    "ffme = get_ffme_returns()\n",
    "ffme.head()"
   ]
  },
  {
   "cell_type": "code",
   "execution_count": 104,
   "id": "6a3e26c0-cd8e-4f99-9bfe-41577d60b654",
   "metadata": {},
   "outputs": [],
   "source": [
    "def get_annualized_returns(df: pd.DataFrame|pd.Series) -> pd.DataFrame|pd.Series:\n",
    "    no_months = df.shape[0]\n",
    "    yearly_returns = (1+df).prod()**(12/no_months) - 1\n",
    "    return yearly_returns"
   ]
  },
  {
   "cell_type": "code",
   "execution_count": 33,
   "id": "4a5e5b21-0331-4cdb-8ef1-a7855f10638d",
   "metadata": {},
   "outputs": [
    {
     "data": {
      "text/plain": [
       "SmallCap20    15.20\n",
       "LargeCap20     9.85\n",
       "dtype: float64"
      ]
     },
     "execution_count": 33,
     "metadata": {},
     "output_type": "execute_result"
    }
   ],
   "source": [
    "round(get_annualized_returns(ffme) * 100, 2)"
   ]
  },
  {
   "cell_type": "code",
   "execution_count": 12,
   "id": "2ef62317-cdd3-465a-9357-74e80f8a03ae",
   "metadata": {},
   "outputs": [
    {
     "data": {
      "text/plain": [
       "(1110, 2)"
      ]
     },
     "execution_count": 12,
     "metadata": {},
     "output_type": "execute_result"
    }
   ],
   "source": [
    "ffme.shape"
   ]
  },
  {
   "cell_type": "code",
   "execution_count": 34,
   "id": "8c3eab23-b921-47e6-9720-4d7110868ef0",
   "metadata": {},
   "outputs": [],
   "source": [
    "def volatility(df: pd.DataFrame):\n",
    "    return df.std()"
   ]
  },
  {
   "cell_type": "code",
   "execution_count": 40,
   "id": "3c0ac2f6-6670-4337-b968-44dc21321ce3",
   "metadata": {},
   "outputs": [
    {
     "data": {
      "text/plain": [
       "SmallCap20    33.67\n",
       "LargeCap20    19.51\n",
       "dtype: float64"
      ]
     },
     "execution_count": 40,
     "metadata": {},
     "output_type": "execute_result"
    }
   ],
   "source": [
    "# Annualized volatility\n",
    "round(volatility(ffme) * np.sqrt(12) * 100, 2)"
   ]
  },
  {
   "cell_type": "code",
   "execution_count": 106,
   "id": "7a02ef14-6659-45b3-9155-af7b0fd3992c",
   "metadata": {},
   "outputs": [
    {
     "data": {
      "text/plain": [
       "SmallCap20    11.44\n",
       "LargeCap20     6.29\n",
       "dtype: float64"
      ]
     },
     "execution_count": 106,
     "metadata": {},
     "output_type": "execute_result"
    }
   ],
   "source": [
    "ffme.loc[\"1990\":\"2015\"]\n",
    "round(get_annualized_returns(ffme.loc[\"1999\":\"2015\"]) * 100, 2)"
   ]
  },
  {
   "cell_type": "code",
   "execution_count": 103,
   "id": "8a6e8a1f-ddf3-4884-85fb-b1a25a9de912",
   "metadata": {},
   "outputs": [
    {
     "name": "stdout",
     "output_type": "stream",
     "text": [
      "204\n"
     ]
    },
    {
     "data": {
      "text/plain": [
       "SmallCap20    0.114426\n",
       "LargeCap20    0.062865\n",
       "dtype: float64"
      ]
     },
     "execution_count": 103,
     "metadata": {},
     "output_type": "execute_result"
    }
   ],
   "source": [
    "no_months = ffme.loc[\"1999\":\"2015\"].shape[0]\n",
    "print(no_months)\n",
    "((1+ffme.loc[\"1999\":\"2015\"]).prod())**(12/no_months) - 1"
   ]
  },
  {
   "cell_type": "code",
   "execution_count": 107,
   "id": "80ebcaae-3b30-448c-9d6a-47ffd295fbc6",
   "metadata": {},
   "outputs": [
    {
     "data": {
      "text/plain": [
       "SmallCap20    22.89\n",
       "LargeCap20    17.27\n",
       "dtype: float64"
      ]
     },
     "execution_count": 107,
     "metadata": {},
     "output_type": "execute_result"
    }
   ],
   "source": [
    "round(volatility(ffme.loc[\"1999\":\"2015\"]) * np.sqrt(12) * 100, 2)"
   ]
  },
  {
   "cell_type": "code",
   "execution_count": 45,
   "id": "d98805e9-54e0-4ba3-9371-992b3b4d0028",
   "metadata": {},
   "outputs": [],
   "source": [
    "import edhek_risk_kit as erk"
   ]
  },
  {
   "cell_type": "code",
   "execution_count": 108,
   "id": "5fcfa1c0-e266-4dde-9292-f319a21e5691",
   "metadata": {},
   "outputs": [
    {
     "data": {
      "text/plain": [
       "62.48"
      ]
     },
     "execution_count": 108,
     "metadata": {},
     "output_type": "execute_result"
    }
   ],
   "source": [
    "round(-erk.drawdown(ffme.loc[\"1999\":\"2015\"][\"SmallCap20\"])[\"Drawdown\"].min().item() * 100, 2)"
   ]
  },
  {
   "cell_type": "code",
   "execution_count": 84,
   "id": "6ef1ad67-d3ee-4a75-b84d-035d908a2135",
   "metadata": {},
   "outputs": [
    {
     "data": {
      "text/plain": [
       "Period('2009-02', 'M')"
      ]
     },
     "execution_count": 84,
     "metadata": {},
     "output_type": "execute_result"
    }
   ],
   "source": [
    "erk.drawdown(ffme.loc[\"1999\":\"2015\"][\"SmallCap20\"])[\"Drawdown\"].idxmin()"
   ]
  },
  {
   "cell_type": "code",
   "execution_count": 109,
   "id": "da4c0649-4e61-4352-b401-e4c6b8789b4b",
   "metadata": {},
   "outputs": [
    {
     "data": {
      "text/plain": [
       "55.27"
      ]
     },
     "execution_count": 109,
     "metadata": {},
     "output_type": "execute_result"
    }
   ],
   "source": [
    "round(-erk.drawdown(ffme.loc[\"1999\":\"2015\"][\"LargeCap20\"])[\"Drawdown\"].min().item() * 100, 2)"
   ]
  },
  {
   "cell_type": "code",
   "execution_count": 110,
   "id": "8c40a8da-6695-4b11-9130-9eaddf1208fb",
   "metadata": {},
   "outputs": [
    {
     "data": {
      "text/plain": [
       "Period('2009-02', 'M')"
      ]
     },
     "execution_count": 110,
     "metadata": {},
     "output_type": "execute_result"
    }
   ],
   "source": [
    "erk.drawdown(ffme.loc[\"1999\":\"2015\"][\"LargeCap20\"])[\"Drawdown\"].idxmin()"
   ]
  },
  {
   "cell_type": "code",
   "execution_count": 87,
   "id": "c55d990a-8678-429b-b868-ad1ab5f3679c",
   "metadata": {},
   "outputs": [],
   "source": [
    "hedge_df = erk.get_hfi_returns().loc[\"2009\":\"2018\"]"
   ]
  },
  {
   "cell_type": "code",
   "execution_count": 88,
   "id": "9fc27d34-ca78-4700-9e32-006038ed458a",
   "metadata": {},
   "outputs": [
    {
     "data": {
      "text/html": [
       "<div>\n",
       "<style scoped>\n",
       "    .dataframe tbody tr th:only-of-type {\n",
       "        vertical-align: middle;\n",
       "    }\n",
       "\n",
       "    .dataframe tbody tr th {\n",
       "        vertical-align: top;\n",
       "    }\n",
       "\n",
       "    .dataframe thead th {\n",
       "        text-align: right;\n",
       "    }\n",
       "</style>\n",
       "<table border=\"1\" class=\"dataframe\">\n",
       "  <thead>\n",
       "    <tr style=\"text-align: right;\">\n",
       "      <th></th>\n",
       "      <th>Convertible Arbitrage</th>\n",
       "      <th>CTA Global</th>\n",
       "      <th>Distressed Securities</th>\n",
       "      <th>Emerging Markets</th>\n",
       "      <th>Equity Market Neutral</th>\n",
       "      <th>Event Driven</th>\n",
       "      <th>Fixed Income Arbitrage</th>\n",
       "      <th>Global Macro</th>\n",
       "      <th>Long/Short Equity</th>\n",
       "      <th>Merger Arbitrage</th>\n",
       "      <th>Relative Value</th>\n",
       "      <th>Short Selling</th>\n",
       "      <th>Funds Of Funds</th>\n",
       "    </tr>\n",
       "    <tr>\n",
       "      <th>date</th>\n",
       "      <th></th>\n",
       "      <th></th>\n",
       "      <th></th>\n",
       "      <th></th>\n",
       "      <th></th>\n",
       "      <th></th>\n",
       "      <th></th>\n",
       "      <th></th>\n",
       "      <th></th>\n",
       "      <th></th>\n",
       "      <th></th>\n",
       "      <th></th>\n",
       "      <th></th>\n",
       "    </tr>\n",
       "  </thead>\n",
       "  <tbody>\n",
       "    <tr>\n",
       "      <th>2009-01</th>\n",
       "      <td>0.0491</td>\n",
       "      <td>-0.0016</td>\n",
       "      <td>0.0082</td>\n",
       "      <td>-0.0112</td>\n",
       "      <td>0.0079</td>\n",
       "      <td>0.0132</td>\n",
       "      <td>0.0112</td>\n",
       "      <td>0.0029</td>\n",
       "      <td>-0.0017</td>\n",
       "      <td>0.0056</td>\n",
       "      <td>0.0100</td>\n",
       "      <td>0.0282</td>\n",
       "      <td>0.0060</td>\n",
       "    </tr>\n",
       "    <tr>\n",
       "      <th>2009-02</th>\n",
       "      <td>0.0164</td>\n",
       "      <td>-0.0031</td>\n",
       "      <td>-0.0122</td>\n",
       "      <td>-0.0133</td>\n",
       "      <td>-0.0046</td>\n",
       "      <td>-0.0091</td>\n",
       "      <td>0.0065</td>\n",
       "      <td>-0.0055</td>\n",
       "      <td>-0.0161</td>\n",
       "      <td>0.0006</td>\n",
       "      <td>-0.0016</td>\n",
       "      <td>0.0328</td>\n",
       "      <td>-0.0037</td>\n",
       "    </tr>\n",
       "    <tr>\n",
       "      <th>2009-03</th>\n",
       "      <td>0.0235</td>\n",
       "      <td>-0.0180</td>\n",
       "      <td>0.0022</td>\n",
       "      <td>0.0350</td>\n",
       "      <td>0.0021</td>\n",
       "      <td>0.0117</td>\n",
       "      <td>0.0057</td>\n",
       "      <td>0.0048</td>\n",
       "      <td>0.0188</td>\n",
       "      <td>0.0125</td>\n",
       "      <td>0.0100</td>\n",
       "      <td>-0.0462</td>\n",
       "      <td>0.0008</td>\n",
       "    </tr>\n",
       "    <tr>\n",
       "      <th>2009-04</th>\n",
       "      <td>0.0500</td>\n",
       "      <td>-0.0140</td>\n",
       "      <td>0.0387</td>\n",
       "      <td>0.0663</td>\n",
       "      <td>-0.0012</td>\n",
       "      <td>0.0337</td>\n",
       "      <td>0.0221</td>\n",
       "      <td>0.0127</td>\n",
       "      <td>0.0375</td>\n",
       "      <td>0.0081</td>\n",
       "      <td>0.0342</td>\n",
       "      <td>-0.0820</td>\n",
       "      <td>0.0092</td>\n",
       "    </tr>\n",
       "    <tr>\n",
       "      <th>2009-05</th>\n",
       "      <td>0.0578</td>\n",
       "      <td>0.0213</td>\n",
       "      <td>0.0504</td>\n",
       "      <td>0.0884</td>\n",
       "      <td>0.0146</td>\n",
       "      <td>0.0442</td>\n",
       "      <td>0.0365</td>\n",
       "      <td>0.0348</td>\n",
       "      <td>0.0516</td>\n",
       "      <td>0.0107</td>\n",
       "      <td>0.0392</td>\n",
       "      <td>0.0008</td>\n",
       "      <td>0.0312</td>\n",
       "    </tr>\n",
       "    <tr>\n",
       "      <th>...</th>\n",
       "      <td>...</td>\n",
       "      <td>...</td>\n",
       "      <td>...</td>\n",
       "      <td>...</td>\n",
       "      <td>...</td>\n",
       "      <td>...</td>\n",
       "      <td>...</td>\n",
       "      <td>...</td>\n",
       "      <td>...</td>\n",
       "      <td>...</td>\n",
       "      <td>...</td>\n",
       "      <td>...</td>\n",
       "      <td>...</td>\n",
       "    </tr>\n",
       "    <tr>\n",
       "      <th>2018-07</th>\n",
       "      <td>0.0021</td>\n",
       "      <td>-0.0058</td>\n",
       "      <td>0.0093</td>\n",
       "      <td>0.0040</td>\n",
       "      <td>-0.0010</td>\n",
       "      <td>0.0055</td>\n",
       "      <td>0.0022</td>\n",
       "      <td>-0.0014</td>\n",
       "      <td>0.0067</td>\n",
       "      <td>-0.0021</td>\n",
       "      <td>0.0045</td>\n",
       "      <td>-0.0052</td>\n",
       "      <td>0.0018</td>\n",
       "    </tr>\n",
       "    <tr>\n",
       "      <th>2018-08</th>\n",
       "      <td>0.0024</td>\n",
       "      <td>0.0166</td>\n",
       "      <td>0.0002</td>\n",
       "      <td>-0.0277</td>\n",
       "      <td>0.0004</td>\n",
       "      <td>0.0011</td>\n",
       "      <td>0.0017</td>\n",
       "      <td>-0.0007</td>\n",
       "      <td>0.0035</td>\n",
       "      <td>0.0050</td>\n",
       "      <td>-0.0002</td>\n",
       "      <td>-0.0214</td>\n",
       "      <td>0.0015</td>\n",
       "    </tr>\n",
       "    <tr>\n",
       "      <th>2018-09</th>\n",
       "      <td>0.0034</td>\n",
       "      <td>-0.0054</td>\n",
       "      <td>0.0050</td>\n",
       "      <td>-0.0110</td>\n",
       "      <td>-0.0016</td>\n",
       "      <td>0.0032</td>\n",
       "      <td>0.0036</td>\n",
       "      <td>0.0006</td>\n",
       "      <td>-0.0023</td>\n",
       "      <td>0.0028</td>\n",
       "      <td>0.0018</td>\n",
       "      <td>0.0036</td>\n",
       "      <td>-0.0022</td>\n",
       "    </tr>\n",
       "    <tr>\n",
       "      <th>2018-10</th>\n",
       "      <td>-0.0073</td>\n",
       "      <td>-0.0314</td>\n",
       "      <td>-0.0158</td>\n",
       "      <td>-0.0315</td>\n",
       "      <td>-0.0129</td>\n",
       "      <td>-0.0257</td>\n",
       "      <td>-0.0023</td>\n",
       "      <td>-0.0096</td>\n",
       "      <td>-0.0402</td>\n",
       "      <td>-0.0080</td>\n",
       "      <td>-0.0109</td>\n",
       "      <td>0.0237</td>\n",
       "      <td>-0.0269</td>\n",
       "    </tr>\n",
       "    <tr>\n",
       "      <th>2018-11</th>\n",
       "      <td>-0.0068</td>\n",
       "      <td>-0.0053</td>\n",
       "      <td>-0.0193</td>\n",
       "      <td>0.0120</td>\n",
       "      <td>-0.0211</td>\n",
       "      <td>-0.0034</td>\n",
       "      <td>-0.0067</td>\n",
       "      <td>-0.0087</td>\n",
       "      <td>-0.0044</td>\n",
       "      <td>0.0119</td>\n",
       "      <td>-0.0063</td>\n",
       "      <td>-0.0021</td>\n",
       "      <td>-0.0071</td>\n",
       "    </tr>\n",
       "  </tbody>\n",
       "</table>\n",
       "<p>119 rows × 13 columns</p>\n",
       "</div>"
      ],
      "text/plain": [
       "         Convertible Arbitrage  CTA Global  Distressed Securities  \\\n",
       "date                                                                \n",
       "2009-01                 0.0491     -0.0016                 0.0082   \n",
       "2009-02                 0.0164     -0.0031                -0.0122   \n",
       "2009-03                 0.0235     -0.0180                 0.0022   \n",
       "2009-04                 0.0500     -0.0140                 0.0387   \n",
       "2009-05                 0.0578      0.0213                 0.0504   \n",
       "...                        ...         ...                    ...   \n",
       "2018-07                 0.0021     -0.0058                 0.0093   \n",
       "2018-08                 0.0024      0.0166                 0.0002   \n",
       "2018-09                 0.0034     -0.0054                 0.0050   \n",
       "2018-10                -0.0073     -0.0314                -0.0158   \n",
       "2018-11                -0.0068     -0.0053                -0.0193   \n",
       "\n",
       "         Emerging Markets  Equity Market Neutral  Event Driven  \\\n",
       "date                                                             \n",
       "2009-01           -0.0112                 0.0079        0.0132   \n",
       "2009-02           -0.0133                -0.0046       -0.0091   \n",
       "2009-03            0.0350                 0.0021        0.0117   \n",
       "2009-04            0.0663                -0.0012        0.0337   \n",
       "2009-05            0.0884                 0.0146        0.0442   \n",
       "...                   ...                    ...           ...   \n",
       "2018-07            0.0040                -0.0010        0.0055   \n",
       "2018-08           -0.0277                 0.0004        0.0011   \n",
       "2018-09           -0.0110                -0.0016        0.0032   \n",
       "2018-10           -0.0315                -0.0129       -0.0257   \n",
       "2018-11            0.0120                -0.0211       -0.0034   \n",
       "\n",
       "         Fixed Income Arbitrage  Global Macro  Long/Short Equity  \\\n",
       "date                                                               \n",
       "2009-01                  0.0112        0.0029            -0.0017   \n",
       "2009-02                  0.0065       -0.0055            -0.0161   \n",
       "2009-03                  0.0057        0.0048             0.0188   \n",
       "2009-04                  0.0221        0.0127             0.0375   \n",
       "2009-05                  0.0365        0.0348             0.0516   \n",
       "...                         ...           ...                ...   \n",
       "2018-07                  0.0022       -0.0014             0.0067   \n",
       "2018-08                  0.0017       -0.0007             0.0035   \n",
       "2018-09                  0.0036        0.0006            -0.0023   \n",
       "2018-10                 -0.0023       -0.0096            -0.0402   \n",
       "2018-11                 -0.0067       -0.0087            -0.0044   \n",
       "\n",
       "         Merger Arbitrage  Relative Value  Short Selling  Funds Of Funds  \n",
       "date                                                                      \n",
       "2009-01            0.0056          0.0100         0.0282          0.0060  \n",
       "2009-02            0.0006         -0.0016         0.0328         -0.0037  \n",
       "2009-03            0.0125          0.0100        -0.0462          0.0008  \n",
       "2009-04            0.0081          0.0342        -0.0820          0.0092  \n",
       "2009-05            0.0107          0.0392         0.0008          0.0312  \n",
       "...                   ...             ...            ...             ...  \n",
       "2018-07           -0.0021          0.0045        -0.0052          0.0018  \n",
       "2018-08            0.0050         -0.0002        -0.0214          0.0015  \n",
       "2018-09            0.0028          0.0018         0.0036         -0.0022  \n",
       "2018-10           -0.0080         -0.0109         0.0237         -0.0269  \n",
       "2018-11            0.0119         -0.0063        -0.0021         -0.0071  \n",
       "\n",
       "[119 rows x 13 columns]"
      ]
     },
     "execution_count": 88,
     "metadata": {},
     "output_type": "execute_result"
    }
   ],
   "source": [
    "hedge_df"
   ]
  },
  {
   "cell_type": "code",
   "execution_count": 89,
   "id": "98571ee4-3ac5-4302-ad39-f5827a5a2763",
   "metadata": {},
   "outputs": [
    {
     "data": {
      "text/plain": [
       "Short Selling             0.021240\n",
       "Emerging Markets          0.015276\n",
       "Long/Short Equity         0.012139\n",
       "CTA Global                0.010996\n",
       "Event Driven              0.010135\n",
       "Distressed Securities     0.009498\n",
       "Funds Of Funds            0.007948\n",
       "Convertible Arbitrage     0.006681\n",
       "Relative Value            0.005711\n",
       "Equity Market Neutral     0.005186\n",
       "Global Macro              0.005075\n",
       "Merger Arbitrage          0.003611\n",
       "Fixed Income Arbitrage    0.003321\n",
       "dtype: float64"
      ]
     },
     "execution_count": 89,
     "metadata": {},
     "output_type": "execute_result"
    }
   ],
   "source": [
    "erk.semideviation(hedge_df).sort_values(ascending=False)"
   ]
  },
  {
   "cell_type": "code",
   "execution_count": 90,
   "id": "c94bcaab-9f9b-4965-896b-4f92791ccb9d",
   "metadata": {},
   "outputs": [
    {
     "data": {
      "text/plain": [
       "Short Selling             0.031207\n",
       "Emerging Markets          0.023606\n",
       "CTA Global                0.019215\n",
       "Long/Short Equity         0.018519\n",
       "Distressed Securities     0.016712\n",
       "Event Driven              0.015833\n",
       "Funds Of Funds            0.012246\n",
       "Convertible Arbitrage     0.010382\n",
       "Global Macro              0.009689\n",
       "Relative Value            0.009502\n",
       "Merger Arbitrage          0.007640\n",
       "Equity Market Neutral     0.007202\n",
       "Fixed Income Arbitrage    0.006490\n",
       "dtype: float64"
      ]
     },
     "execution_count": 90,
     "metadata": {},
     "output_type": "execute_result"
    }
   ],
   "source": [
    "erk.semideviation3(hedge_df).sort_values(ascending=False)"
   ]
  },
  {
   "cell_type": "code",
   "execution_count": 91,
   "id": "c92a2b27-879b-408e-94fd-475f3b2d0d38",
   "metadata": {},
   "outputs": [],
   "source": [
    "hedge_df_2 = erk.get_hfi_returns().loc[\"2009\":]"
   ]
  },
  {
   "cell_type": "code",
   "execution_count": 92,
   "id": "5a3ec18c-7024-4ed4-acce-5cedc25b7ce1",
   "metadata": {},
   "outputs": [
    {
     "data": {
      "text/plain": [
       "Fixed Income Arbitrage    0.003321\n",
       "Merger Arbitrage          0.003611\n",
       "Global Macro              0.005075\n",
       "Equity Market Neutral     0.005186\n",
       "Relative Value            0.005711\n",
       "Convertible Arbitrage     0.006681\n",
       "Funds Of Funds            0.007948\n",
       "Distressed Securities     0.009498\n",
       "Event Driven              0.010135\n",
       "CTA Global                0.010996\n",
       "Long/Short Equity         0.012139\n",
       "Emerging Markets          0.015276\n",
       "Short Selling             0.021240\n",
       "dtype: float64"
      ]
     },
     "execution_count": 92,
     "metadata": {},
     "output_type": "execute_result"
    }
   ],
   "source": [
    "erk.semideviation(hedge_df_2).sort_values(ascending=True)"
   ]
  },
  {
   "cell_type": "code",
   "execution_count": 73,
   "id": "93d1d2bd-6267-4a74-91e8-274200f17805",
   "metadata": {},
   "outputs": [
    {
     "data": {
      "text/plain": [
       "Fixed Income Arbitrage    0.006490\n",
       "Equity Market Neutral     0.007202\n",
       "Merger Arbitrage          0.007640\n",
       "Relative Value            0.009502\n",
       "Global Macro              0.009689\n",
       "Convertible Arbitrage     0.010382\n",
       "Funds Of Funds            0.012246\n",
       "Event Driven              0.015833\n",
       "Distressed Securities     0.016712\n",
       "Long/Short Equity         0.018519\n",
       "CTA Global                0.019215\n",
       "Emerging Markets          0.023606\n",
       "Short Selling             0.031207\n",
       "dtype: float64"
      ]
     },
     "execution_count": 73,
     "metadata": {},
     "output_type": "execute_result"
    }
   ],
   "source": [
    "erk.semideviation3(hedge_df_2).sort_values(ascending=True)"
   ]
  },
  {
   "cell_type": "code",
   "execution_count": 93,
   "id": "a2f8c8e7-2c38-4fe8-8b5f-48c61b0acd14",
   "metadata": {},
   "outputs": [
    {
     "data": {
      "text/plain": [
       "Equity Market Neutral    -0.896327\n",
       "Funds Of Funds           -0.646908\n",
       "Merger Arbitrage         -0.551065\n",
       "Event Driven             -0.488821\n",
       "Long/Short Equity        -0.463703\n",
       "Distressed Securities    -0.254944\n",
       "Emerging Markets          0.033123\n",
       "CTA Global                0.052062\n",
       "Relative Value            0.159953\n",
       "Global Macro              0.348184\n",
       "Short Selling             0.456518\n",
       "Fixed Income Arbitrage    1.121453\n",
       "Convertible Arbitrage     1.305911\n",
       "dtype: float64"
      ]
     },
     "execution_count": 93,
     "metadata": {},
     "output_type": "execute_result"
    }
   ],
   "source": [
    "hedge_df.aggregate(erk.skewness).sort_values()"
   ]
  },
  {
   "cell_type": "code",
   "execution_count": 94,
   "id": "13f15001-850c-460f-8392-ef5984a4f59d",
   "metadata": {},
   "outputs": [
    {
     "data": {
      "text/plain": [
       "CTA Global                 2.845022\n",
       "Global Macro               3.653278\n",
       "Short Selling              4.352758\n",
       "Long/Short Equity          4.472589\n",
       "Merger Arbitrage           4.520785\n",
       "Event Driven               5.543444\n",
       "Emerging Markets           5.941289\n",
       "Distressed Securities      6.231720\n",
       "Funds Of Funds             7.584725\n",
       "Relative Value            12.731096\n",
       "Equity Market Neutral     20.329621\n",
       "Convertible Arbitrage     23.001449\n",
       "Fixed Income Arbitrage    33.378729\n",
       "dtype: float64"
      ]
     },
     "execution_count": 94,
     "metadata": {},
     "output_type": "execute_result"
    }
   ],
   "source": [
    "erk.get_hfi_returns().loc[\"2000\":].aggregate(erk.kurtosis).sort_values()"
   ]
  },
  {
   "cell_type": "code",
   "execution_count": null,
   "id": "d0435048-c3ef-4df3-bcc2-1a2ee6647480",
   "metadata": {},
   "outputs": [],
   "source": []
  }
 ],
 "metadata": {
  "kernelspec": {
   "display_name": "Python 3 (ipykernel)",
   "language": "python",
   "name": "python3"
  },
  "language_info": {
   "codemirror_mode": {
    "name": "ipython",
    "version": 3
   },
   "file_extension": ".py",
   "mimetype": "text/x-python",
   "name": "python",
   "nbconvert_exporter": "python",
   "pygments_lexer": "ipython3",
   "version": "3.12.11"
  }
 },
 "nbformat": 4,
 "nbformat_minor": 5
}

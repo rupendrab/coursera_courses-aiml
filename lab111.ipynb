{
 "cells": [
  {
   "cell_type": "markdown",
   "id": "9f289e9e-94e7-41c8-86f3-75428b3b6bce",
   "metadata": {},
   "source": [
    "## Lack of robustness of the Markowitz Procedure, and the GMV"
   ]
  },
  {
   "cell_type": "code",
   "execution_count": 1,
   "id": "ee52666a-124b-4807-8d6b-538869a46700",
   "metadata": {},
   "outputs": [],
   "source": [
    "%load_ext autoreload\n",
    "%autoreload 2"
   ]
  },
  {
   "cell_type": "code",
   "execution_count": 2,
   "id": "ef121ced-fdf3-40d6-9303-9a6c0a268fc3",
   "metadata": {},
   "outputs": [],
   "source": [
    "import pandas as pd\n",
    "import numpy as np\n",
    "\n",
    "import edhek_risk_kit as erk\n",
    "\n",
    "ind = erk.get_ind_returns()\n",
    "er = erk.annualize_rets(ind[\"1996\":\"2000\"], 12)\n",
    "cov = ind[\"1996\":\"2000\"].cov()"
   ]
  },
  {
   "cell_type": "code",
   "execution_count": 3,
   "id": "60c071d1-585d-4352-967a-c659514eec43",
   "metadata": {},
   "outputs": [
    {
     "data": {
      "text/plain": [
       "array([0.75040362, 0.24959638])"
      ]
     },
     "execution_count": 3,
     "metadata": {},
     "output_type": "execute_result"
    }
   ],
   "source": [
    "l = [\"Food\", \"Steel\"]\n",
    "w_msr = erk.msr(0.1, er[l], cov.loc[l, l])\n",
    "w_msr"
   ]
  },
  {
   "cell_type": "code",
   "execution_count": 4,
   "id": "b558ad10-ece0-4a8c-9434-d4a293e69249",
   "metadata": {},
   "outputs": [
    {
     "data": {
      "text/plain": [
       "Food     0.116799\n",
       "Steel    0.115809\n",
       "dtype: float64"
      ]
     },
     "execution_count": 4,
     "metadata": {},
     "output_type": "execute_result"
    }
   ],
   "source": [
    "er[l]"
   ]
  },
  {
   "cell_type": "code",
   "execution_count": 6,
   "id": "4977c537-4df5-4421-81c5-ee0cf8d40326",
   "metadata": {},
   "outputs": [
    {
     "data": {
      "text/plain": [
       "array([0.57930354, 0.42069646])"
      ]
     },
     "execution_count": 6,
     "metadata": {},
     "output_type": "execute_result"
    }
   ],
   "source": [
    "# Even a small change in expected returns can cause a dramatic change in the allocation \n",
    "# of weights\n",
    "erk.msr(0.1, np.array([.11, .12]), cov.loc[l, l])"
   ]
  },
  {
   "cell_type": "code",
   "execution_count": 7,
   "id": "e9e2b15a-3b0c-4490-b3b0-daf7e9a17048",
   "metadata": {},
   "outputs": [
    {
     "data": {
      "text/plain": [
       "array([0., 1.])"
      ]
     },
     "execution_count": 7,
     "metadata": {},
     "output_type": "execute_result"
    }
   ],
   "source": [
    "erk.msr(0.1, np.array([.10, .13]), cov.loc[l, l])"
   ]
  },
  {
   "cell_type": "code",
   "execution_count": 8,
   "id": "48050c5e-7a07-41df-b8db-24d687a5f2be",
   "metadata": {},
   "outputs": [
    {
     "data": {
      "text/plain": [
       "array([1.00000000e+00, 5.55111512e-17])"
      ]
     },
     "execution_count": 8,
     "metadata": {},
     "output_type": "execute_result"
    }
   ],
   "source": [
    "erk.msr(0.1, np.array([.13, .10]), cov.loc[l, l])"
   ]
  },
  {
   "cell_type": "code",
   "execution_count": 15,
   "id": "185b6eae-c212-47fa-bce5-af341a4dc344",
   "metadata": {},
   "outputs": [
    {
     "data": {
      "text/plain": [
       "<Axes: xlabel='Volatility'>"
      ]
     },
     "execution_count": 15,
     "metadata": {},
     "output_type": "execute_result"
    },
    {
     "data": {
      "image/png": "[encoded data removed]",
      "text/plain": [
       "<Figure size 640x480 with 1 Axes>"
      ]
     },
     "metadata": {},
     "output_type": "display_data"
    }
   ],
   "source": [
    "erk.plot_ef(20, er, cov, show_cml=True, riskfree_rate=0.1, show_ew=True, show_gmv=True)"
   ]
  },
  {
   "cell_type": "code",
   "execution_count": null,
   "id": "daf028b7-e427-41f3-a598-3d1b10e621c7",
   "metadata": {},
   "outputs": [],
   "source": []
  }
 ],
 "metadata": {
  "kernelspec": {
   "display_name": "Python 3 (ipykernel)",
   "language": "python",
   "name": "python3"
  },
  "language_info": {
   "codemirror_mode": {
    "name": "ipython",
    "version": 3
   },
   "file_extension": ".py",
   "mimetype": "text/x-python",
   "name": "python",
   "nbconvert_exporter": "python",
   "pygments_lexer": "ipython3",
   "version": "3.12.11"
  }
 },
 "nbformat": 4,
 "nbformat_minor": 5
}

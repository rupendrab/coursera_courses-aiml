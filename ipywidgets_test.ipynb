{
 "cells": [
  {
   "cell_type": "code",
   "execution_count": 1,
   "id": "239a26c3-ea67-48e0-8661-ccc9f27b2642",
   "metadata": {},
   "outputs": [],
   "source": [
    "import ipywidgets as widgets"
   ]
  },
  {
   "cell_type": "code",
   "execution_count": 2,
   "id": "6c678b1f-7f4f-460b-9aa2-64b55cb58479",
   "metadata": {},
   "outputs": [],
   "source": [
    "def squareit(n):\n",
    "    return n * n"
   ]
  },
  {
   "cell_type": "code",
   "execution_count": 3,
   "id": "a2974713-fb02-4ec3-b81b-4109105fec9a",
   "metadata": {},
   "outputs": [
    {
     "data": {
      "text/plain": [
       "25"
      ]
     },
     "execution_count": 3,
     "metadata": {},
     "output_type": "execute_result"
    }
   ],
   "source": [
    "squareit(5)"
   ]
  },
  {
   "cell_type": "code",
   "execution_count": 4,
   "id": "55a9396f-3ec2-4cd1-aca1-6fc7ac46f9d2",
   "metadata": {},
   "outputs": [
    {
     "data": {
      "application/vnd.jupyter.widget-view+json": {
       "model_id": "b9c110a18b654ca4a5eb2c75c1791cba",
       "version_major": 2,
       "version_minor": 0
      },
      "text/plain": [
       "interactive(children=(IntSlider(value=50, description='n'), Output()), _dom_classes=('widget-interact',))"
      ]
     },
     "metadata": {},
     "output_type": "display_data"
    },
    {
     "data": {
      "text/plain": [
       "<function __main__.squareit(n)>"
      ]
     },
     "execution_count": 4,
     "metadata": {},
     "output_type": "execute_result"
    }
   ],
   "source": [
    "widgets.interact(squareit, n=(0,100))"
   ]
  },
  {
   "cell_type": "code",
   "execution_count": 7,
   "id": "a9a4ffb2-9c08-4979-9687-b31b5116cb53",
   "metadata": {},
   "outputs": [
    {
     "data": {
      "application/vnd.jupyter.widget-view+json": {
       "model_id": "c822f62a50db4116be0719abb288315f",
       "version_major": 2,
       "version_minor": 0
      },
      "text/plain": [
       "VBox(children=(Text(value='', description='Name:'), Checkbox(value=False, description='Subscribe'), Button(des…"
      ]
     },
     "metadata": {},
     "output_type": "display_data"
    }
   ],
   "source": [
    "import ipywidgets as widgets\n",
    "from IPython.display import display\n",
    "\n",
    "text = widgets.Text(description=\"Name:\")\n",
    "check = widgets.Checkbox(value=False, description=\"Subscribe\")\n",
    "button = widgets.Button(description=\"Submit\")\n",
    "\n",
    "def on_click(b):\n",
    "    print(f\"Hello {text.value}, subscribed: {check.value}\")\n",
    "\n",
    "button.on_click(on_click)\n",
    "\n",
    "ui = widgets.VBox([text, check, button])\n",
    "display(ui)"
   ]
  },
  {
   "cell_type": "code",
   "execution_count": null,
   "id": "3c2f1dea-ce53-48dc-b2cc-f3f668342359",
   "metadata": {},
   "outputs": [],
   "source": []
  }
 ],
 "metadata": {
  "kernelspec": {
   "display_name": "Python 3 (ipykernel)",
   "language": "python",
   "name": "python3"
  },
  "language_info": {
   "codemirror_mode": {
    "name": "ipython",
    "version": 3
   },
   "file_extension": ".py",
   "mimetype": "text/x-python",
   "name": "python",
   "nbconvert_exporter": "python",
   "pygments_lexer": "ipython3",
   "version": "3.12.10"
  }
 },
 "nbformat": 4,
 "nbformat_minor": 5
}
